{
 "cells": [
  {
   "cell_type": "code",
   "execution_count": 3,
   "metadata": {},
   "outputs": [],
   "source": [
    "# Sequential Search (UL)\n",
    "\n",
    "def ULSS(arr, ele):\n",
    "    found = False\n",
    "    pos = 0\n",
    "    while pos < len(arr) and not found:\n",
    "        if arr[pos] == ele:\n",
    "            found = True\n",
    "        else:\n",
    "            pos += 1\n",
    "            \n",
    "    return found"
   ]
  },
  {
   "cell_type": "code",
   "execution_count": 5,
   "metadata": {},
   "outputs": [
    {
     "data": {
      "text/plain": [
       "False"
      ]
     },
     "execution_count": 5,
     "metadata": {},
     "output_type": "execute_result"
    }
   ],
   "source": [
    "arr = [1, 2, 3, 4, 5, 6, 7]\n",
    "ULSS(arr, 8)"
   ]
  },
  {
   "cell_type": "code",
   "execution_count": 6,
   "metadata": {},
   "outputs": [],
   "source": [
    "# Sequential Search (OL)\n",
    "\n",
    "def OLSS(arr, ele):\n",
    "    pos = 0\n",
    "    found = False\n",
    "    stop = False\n",
    "    \n",
    "    while pos < len(arr) and not found and not stop:\n",
    "        if arr[pos] == ele:\n",
    "            found = True\n",
    "            \n",
    "        else:\n",
    "            if ele < arr[pos]:\n",
    "                stop = True\n",
    "            else:\n",
    "                pos += 1\n",
    "                \n",
    "    return found"
   ]
  },
  {
   "cell_type": "code",
   "execution_count": 8,
   "metadata": {},
   "outputs": [
    {
     "data": {
      "text/plain": [
       "False"
      ]
     },
     "execution_count": 8,
     "metadata": {},
     "output_type": "execute_result"
    }
   ],
   "source": [
    "arr2 = [1, 2, 3, 4, 5, 6, 7]\n",
    "OLSS(arr2, 8)"
   ]
  },
  {
   "cell_type": "code",
   "execution_count": 9,
   "metadata": {},
   "outputs": [],
   "source": [
    "# Binary Search (Iterative)\n",
    "\n",
    "def IBS(arr, ele):\n",
    "    first = 0\n",
    "    last = len(arr) - 1\n",
    "    found = False\n",
    "    \n",
    "    while first <= last and not found:\n",
    "        mid = (first + last)//2\n",
    "        \n",
    "        if ele == arr[mid]:\n",
    "            found = True\n",
    "            \n",
    "        else:\n",
    "            if ele < arr[mid]:\n",
    "                last = mid - 1\n",
    "            else:\n",
    "                first = mid + 1\n",
    "                \n",
    "    return found"
   ]
  },
  {
   "cell_type": "code",
   "execution_count": 12,
   "metadata": {},
   "outputs": [
    {
     "data": {
      "text/plain": [
       "True"
      ]
     },
     "execution_count": 12,
     "metadata": {},
     "output_type": "execute_result"
    }
   ],
   "source": [
    "arr3 = [1, 2, 3, 4, 5, 6]\n",
    "IBS(arr3, 4)"
   ]
  },
  {
   "cell_type": "code",
   "execution_count": 13,
   "metadata": {},
   "outputs": [],
   "source": [
    "# Binary Search (Recursive)\n",
    "\n",
    "def RBS(arr, ele):\n",
    "    \n",
    "    # Base Case\n",
    "    if len(arr) == 0:\n",
    "        return False\n",
    "    \n",
    "    else:\n",
    "        mid = (len(arr))//2\n",
    "        \n",
    "        if ele == arr[mid]:\n",
    "            return True\n",
    "        else:\n",
    "            if ele < arr[mid]:\n",
    "                return RBS(arr[:mid], ele)\n",
    "            else:\n",
    "                return RBS(arr[mid+1:], ele)"
   ]
  },
  {
   "cell_type": "code",
   "execution_count": 16,
   "metadata": {},
   "outputs": [
    {
     "data": {
      "text/plain": [
       "False"
      ]
     },
     "execution_count": 16,
     "metadata": {},
     "output_type": "execute_result"
    }
   ],
   "source": [
    "arr4 = [1, 2, 3, 4, 5, 6]\n",
    "RBS(arr4, 7)"
   ]
  },
  {
   "cell_type": "code",
   "execution_count": 17,
   "metadata": {},
   "outputs": [],
   "source": [
    "# Bubble Sort\n",
    "\n",
    "def BS(arr):\n",
    "    # Traverse through the entire array\n",
    "    for i in range(len(arr)):\n",
    "        # Traverse through the rest of the unsorted array\n",
    "        for j in range(i+1, len(arr)):\n",
    "            if arr[i] > arr[j]:\n",
    "                temp = arr[i]\n",
    "                arr[i] = arr[j]\n",
    "                arr[j] = temp\n",
    "    \n",
    "    return arr"
   ]
  },
  {
   "cell_type": "code",
   "execution_count": 18,
   "metadata": {},
   "outputs": [
    {
     "data": {
      "text/plain": [
       "[1, 2, 3, 4, 5, 6]"
      ]
     },
     "execution_count": 18,
     "metadata": {},
     "output_type": "execute_result"
    }
   ],
   "source": [
    "arr5 = [6, 3, 1, 4, 2, 5]\n",
    "BS(arr5)"
   ]
  },
  {
   "cell_type": "code",
   "execution_count": 27,
   "metadata": {},
   "outputs": [],
   "source": [
    "# Selection Sort\n",
    "\n",
    "def SS(arr):\n",
    "    # Traverse through the entire array\n",
    "    for i in range(len(arr)):\n",
    "        minIndex = i\n",
    "        for j in range(i+1, len(arr)):\n",
    "            if arr[minIndex] > arr[j]:\n",
    "                minIndex = j\n",
    "            \n",
    "        arr[minIndex], arr[i] = arr[i], arr[minIndex]\n",
    "        \n",
    "    return arr"
   ]
  },
  {
   "cell_type": "code",
   "execution_count": 28,
   "metadata": {},
   "outputs": [
    {
     "data": {
      "text/plain": [
       "[1, 2, 3, 4, 6]"
      ]
     },
     "execution_count": 28,
     "metadata": {},
     "output_type": "execute_result"
    }
   ],
   "source": [
    "arr6 = [6, 3, 4, 1, 2]\n",
    "SS(arr6)"
   ]
  },
  {
   "cell_type": "code",
   "execution_count": 2,
   "metadata": {},
   "outputs": [],
   "source": [
    "def IS(arr):\n",
    "    # Traverse through the entire array\n",
    "    for i in range(1, len(arr)):\n",
    "        pos = i\n",
    "        curVal = arr[i]\n",
    "        \n",
    "        while pos > 0 and arr[pos - 1] > curVal:\n",
    "            arr[pos] = arr[pos - 1]\n",
    "            pos -= 1\n",
    "        \n",
    "        arr[pos] = curVal\n",
    "    return arr       "
   ]
  },
  {
   "cell_type": "code",
   "execution_count": 3,
   "metadata": {},
   "outputs": [
    {
     "data": {
      "text/plain": [
       "[1, 2, 3, 4, 5, 6]"
      ]
     },
     "execution_count": 3,
     "metadata": {},
     "output_type": "execute_result"
    }
   ],
   "source": [
    "arr7 = [6, 5, 4, 3, 2, 1]\n",
    "IS(arr7)"
   ]
  },
  {
   "cell_type": "code",
   "execution_count": null,
   "metadata": {},
   "outputs": [],
   "source": []
  },
  {
   "cell_type": "markdown",
   "metadata": {},
   "source": [
    "# Arrays"
   ]
  },
  {
   "cell_type": "code",
   "execution_count": 228,
   "metadata": {},
   "outputs": [],
   "source": [
    "# Anagram\n",
    "\n",
    "def anagram(a, b):\n",
    "    a = a.replace(\" \", \"\").lower()\n",
    "    b = b.replace(\" \", \"\").lower()\n",
    "    \n",
    "    count = {}\n",
    "    \n",
    "    for i in a:\n",
    "        if i not in count:\n",
    "            count[i] = 1\n",
    "        else:\n",
    "            count[i] += 1\n",
    "            \n",
    "    for j in b:\n",
    "        if j not in count:\n",
    "            count[j] = 1\n",
    "        else:\n",
    "            count[j] -= 1\n",
    "            \n",
    "    for k in count:\n",
    "        if count[k] != 0:\n",
    "            return False\n",
    "        \n",
    "    return True"
   ]
  },
  {
   "cell_type": "code",
   "execution_count": 231,
   "metadata": {},
   "outputs": [],
   "source": [
    "x = \"public relations\"\n",
    "y = \"crap built on liess\""
   ]
  },
  {
   "cell_type": "code",
   "execution_count": 232,
   "metadata": {},
   "outputs": [
    {
     "data": {
      "text/plain": [
       "False"
      ]
     },
     "execution_count": 232,
     "metadata": {},
     "output_type": "execute_result"
    }
   ],
   "source": [
    "anagram(x, y)"
   ]
  },
  {
   "cell_type": "code",
   "execution_count": 8,
   "metadata": {},
   "outputs": [],
   "source": [
    "# Array Pair Sum\n",
    "\n",
    "def aps(arr, s):\n",
    "    \n",
    "    # Corner case\n",
    "    if len(arr) == 0:\n",
    "        return\n",
    "    \n",
    "    seen = set()\n",
    "    output = set()\n",
    "    \n",
    "    for num in arr:\n",
    "        target = s - num\n",
    "        \n",
    "        if target not in seen:\n",
    "            seen.add(num)\n",
    "            \n",
    "        else:\n",
    "            output.add(( max(num, target), min(num, target) ))\n",
    "            \n",
    "            \n",
    "    return output"
   ]
  },
  {
   "cell_type": "code",
   "execution_count": 11,
   "metadata": {},
   "outputs": [
    {
     "data": {
      "text/plain": [
       "{(3, 3)}"
      ]
     },
     "execution_count": 11,
     "metadata": {},
     "output_type": "execute_result"
    }
   ],
   "source": [
    "aps([1, 2, 3, 2, 3], 6)"
   ]
  },
  {
   "cell_type": "code",
   "execution_count": 12,
   "metadata": {},
   "outputs": [],
   "source": [
    "# Find the Missing Element\n",
    "\n",
    "def missElem(a, b):\n",
    "    \n",
    "    missing = a\n",
    "    \n",
    "    for ele in b:\n",
    "        if ele in missing:\n",
    "            missing.remove(ele)\n",
    "            \n",
    "    return missing"
   ]
  },
  {
   "cell_type": "code",
   "execution_count": 14,
   "metadata": {},
   "outputs": [
    {
     "data": {
      "text/plain": [
       "[5]"
      ]
     },
     "execution_count": 14,
     "metadata": {},
     "output_type": "execute_result"
    }
   ],
   "source": [
    "missElem([1, 2, 3, 4, 5], [1, 4, 2, 3])"
   ]
  },
  {
   "cell_type": "code",
   "execution_count": 18,
   "metadata": {},
   "outputs": [],
   "source": [
    "# Largest Continuos Sum\n",
    "\n",
    "def lcs(arr):\n",
    "    \n",
    "    # Corner Case\n",
    "    if len(arr) == 0:\n",
    "        return\n",
    "    \n",
    "    cs = larCS = arr[0]\n",
    "    \n",
    "    for num in arr[1:]:\n",
    "        cs = max(num, cs+num)\n",
    "        larCS = max(cs, larCS)\n",
    "        \n",
    "    print(larCS)"
   ]
  },
  {
   "cell_type": "code",
   "execution_count": 19,
   "metadata": {},
   "outputs": [
    {
     "name": "stdout",
     "output_type": "stream",
     "text": [
      "1\n"
     ]
    }
   ],
   "source": [
    "lcs([-1, 1])"
   ]
  },
  {
   "cell_type": "code",
   "execution_count": 20,
   "metadata": {},
   "outputs": [
    {
     "name": "stdout",
     "output_type": "stream",
     "text": [
      "14\n"
     ]
    }
   ],
   "source": [
    "lcs([-1, 1, 2, 4, 5, -3, 5])"
   ]
  },
  {
   "cell_type": "code",
   "execution_count": 22,
   "metadata": {},
   "outputs": [
    {
     "name": "stdout",
     "output_type": "stream",
     "text": [
      "7\n"
     ]
    }
   ],
   "source": [
    "lcs([-2, -3, 4, -1, -2, 1, 5, -3])"
   ]
  },
  {
   "cell_type": "code",
   "execution_count": 47,
   "metadata": {},
   "outputs": [],
   "source": [
    "# Sentence Reversal\n",
    "\n",
    "def sr(a):\n",
    "    a = a.strip().split(\" \")\n",
    "    result = \" \"\n",
    "    \n",
    "    for word in a[::-1]:\n",
    "        result += word\n",
    "        \n",
    "    return result"
   ]
  },
  {
   "cell_type": "code",
   "execution_count": 48,
   "metadata": {},
   "outputs": [
    {
     "data": {
      "text/plain": [
       "' WorldHello'"
      ]
     },
     "execution_count": 48,
     "metadata": {},
     "output_type": "execute_result"
    }
   ],
   "source": [
    "sr(\" Hello World  \")"
   ]
  },
  {
   "cell_type": "code",
   "execution_count": 52,
   "metadata": {},
   "outputs": [],
   "source": [
    "# String Compression\n",
    "\n",
    "def scomp(st):\n",
    "    \n",
    "    l = len(st)\n",
    "    # Corner Case\n",
    "    if l == 0:\n",
    "        return\n",
    "    \n",
    "    cnt = 1\n",
    "    i = 1\n",
    "    res = \"\"\n",
    "    \n",
    "    while i < l:\n",
    "        if st[i - 1] == st[i]:\n",
    "            cnt += 1\n",
    "            \n",
    "        else:\n",
    "            res += st[i - 1] + str(cnt)\n",
    "            cnt = 1\n",
    "        i += 1\n",
    "        \n",
    "    res += st[i - 1] + str(cnt)\n",
    "    return res"
   ]
  },
  {
   "cell_type": "code",
   "execution_count": 53,
   "metadata": {},
   "outputs": [
    {
     "data": {
      "text/plain": [
       "'A5B5C2a3'"
      ]
     },
     "execution_count": 53,
     "metadata": {},
     "output_type": "execute_result"
    }
   ],
   "source": [
    "scomp(\"AAAAABBBBBCCaaa\")"
   ]
  },
  {
   "cell_type": "code",
   "execution_count": 54,
   "metadata": {},
   "outputs": [],
   "source": [
    "# Unique Characters in a String\n",
    "\n",
    "def ucs(st):\n",
    "    st = st.lower()\n",
    "    \n",
    "    count = {}\n",
    "    \n",
    "    for i in st:\n",
    "        if i not in count:\n",
    "            count[i] = 1\n",
    "        else:\n",
    "            count[i] += 1\n",
    "            \n",
    "    for k in count:\n",
    "        if count[k] != 1:\n",
    "            return False\n",
    "        \n",
    "    return True"
   ]
  },
  {
   "cell_type": "code",
   "execution_count": 56,
   "metadata": {},
   "outputs": [
    {
     "data": {
      "text/plain": [
       "False"
      ]
     },
     "execution_count": 56,
     "metadata": {},
     "output_type": "execute_result"
    }
   ],
   "source": [
    "ucs(\"abcdefghh\")"
   ]
  },
  {
   "cell_type": "code",
   "execution_count": 81,
   "metadata": {},
   "outputs": [],
   "source": [
    "# Implementation of a Stack\n",
    "\n",
    "class Stack(object):\n",
    "    \n",
    "    def __init__(self):\n",
    "        self.items = []\n",
    "        \n",
    "    def isEmpty(self):\n",
    "        return self.items == []\n",
    "    \n",
    "    def push(self, item):\n",
    "        self.items.append(item)\n",
    "    \n",
    "    def pop(self):\n",
    "        return self.items.pop()\n",
    "    \n",
    "    def peek(self):\n",
    "        return self.items[len(self.items) - 1]\n",
    "    \n",
    "    def size(self):\n",
    "        return len(self.items)"
   ]
  },
  {
   "cell_type": "code",
   "execution_count": 76,
   "metadata": {},
   "outputs": [],
   "source": [
    "st = Stack()"
   ]
  },
  {
   "cell_type": "code",
   "execution_count": 77,
   "metadata": {},
   "outputs": [],
   "source": [
    "st.push(2)"
   ]
  },
  {
   "cell_type": "code",
   "execution_count": 78,
   "metadata": {},
   "outputs": [
    {
     "data": {
      "text/plain": [
       "2"
      ]
     },
     "execution_count": 78,
     "metadata": {},
     "output_type": "execute_result"
    }
   ],
   "source": [
    "st.peek()"
   ]
  },
  {
   "cell_type": "code",
   "execution_count": 79,
   "metadata": {},
   "outputs": [],
   "source": [
    "st.push(9)"
   ]
  },
  {
   "cell_type": "code",
   "execution_count": 84,
   "metadata": {},
   "outputs": [
    {
     "data": {
      "text/plain": [
       "2"
      ]
     },
     "execution_count": 84,
     "metadata": {},
     "output_type": "execute_result"
    }
   ],
   "source": [
    "st.size()"
   ]
  },
  {
   "cell_type": "code",
   "execution_count": 85,
   "metadata": {},
   "outputs": [],
   "source": [
    "# Implement a Queue\n",
    "\n",
    "class Queue(object):\n",
    "    \n",
    "    def __init__(self):\n",
    "        self.items = []\n",
    "    \n",
    "    def isEmpty(self):\n",
    "        return self.items == []\n",
    "    \n",
    "    def enqueue(self, item):\n",
    "        self.items.insert(0, item)\n",
    "        \n",
    "    def dequeue(self):\n",
    "        return self.items.pop()\n",
    "    \n",
    "    def size(self):\n",
    "        return len(self.items)"
   ]
  },
  {
   "cell_type": "code",
   "execution_count": 86,
   "metadata": {},
   "outputs": [],
   "source": [
    "# Implement a Deque\n",
    "\n",
    "class Deque(object):\n",
    "    \n",
    "    def __init__(self):\n",
    "        self.items = []\n",
    "        \n",
    "    def isEmpty(self):\n",
    "        return self.items == []\n",
    "    \n",
    "    def addFront(self, item):\n",
    "        self.items.append(item)\n",
    "        \n",
    "    def addRear(self, item):\n",
    "        self.items.insert(0, item)\n",
    "        \n",
    "    def remFront(self):\n",
    "        return self.items.pop()\n",
    "    \n",
    "    def remRear(self):\n",
    "        return self.items.pop(0)\n",
    "    \n",
    "    def size(self):\n",
    "        return len(self.items)"
   ]
  },
  {
   "cell_type": "code",
   "execution_count": 87,
   "metadata": {},
   "outputs": [],
   "source": [
    "# Implement a Stack\n",
    "\n",
    "class Stack(object):\n",
    "    \n",
    "    def __init__(self):\n",
    "        self.items = []\n",
    "        \n",
    "    def isEmpty(self):\n",
    "        return self.items == []\n",
    "    \n",
    "    def push(self, item):\n",
    "        self.items.append(item)\n",
    "        \n",
    "    def pop(self):\n",
    "        return self.items.pop()\n",
    "    \n",
    "    def peek(self):\n",
    "        return self.items(len(self.items) - 1)\n",
    "    \n",
    "    def size(self):\n",
    "        return len(self.items)"
   ]
  },
  {
   "cell_type": "code",
   "execution_count": 88,
   "metadata": {},
   "outputs": [],
   "source": [
    "# Implement a Queue\n",
    "\n",
    "class Queue(object):\n",
    "    \n",
    "    def __init__(self):\n",
    "        self.items = []\n",
    "        \n",
    "    def isEmpty(self):\n",
    "        return self.items == []\n",
    "    \n",
    "    def enqueue(self, item):\n",
    "        self.items.insert(0, item)\n",
    "        \n",
    "    def dequeue(self):\n",
    "        return self.items.pop()\n",
    "    \n",
    "    def peek(self):\n",
    "        return self.items(len(self.items)-1)\n",
    "    \n",
    "    def size(self):\n",
    "        return len(self.items)"
   ]
  },
  {
   "cell_type": "code",
   "execution_count": 89,
   "metadata": {},
   "outputs": [],
   "source": [
    "# Implement a Deque\n",
    "\n",
    "class Deque(object):\n",
    "    \n",
    "    def __init__(self):\n",
    "        self.items = []\n",
    "        \n",
    "    def isEmpty(self):\n",
    "        return self.items == []\n",
    "    \n",
    "    def addFront(self, item):\n",
    "        self.items.append(item)\n",
    "        \n",
    "    def addRear(self, item):\n",
    "        self.items.insert(0, item)\n",
    "        \n",
    "    def removeFront(self):\n",
    "        return self.items.pop()\n",
    "    \n",
    "    def removeRear(self):\n",
    "        return self.items.pop(0)\n",
    "    \n",
    "    def size(self):\n",
    "        return len(self.items)"
   ]
  },
  {
   "cell_type": "code",
   "execution_count": 91,
   "metadata": {},
   "outputs": [],
   "source": [
    "# Anagram\n",
    "\n",
    "def anagram(a, b):\n",
    "    a = a.replace(\" \", \"\").lower()\n",
    "    b = b.replace(\" \", \"\").lower()\n",
    "    \n",
    "    count = {}\n",
    "    \n",
    "    for i in a:\n",
    "        if i not in count:\n",
    "            count[i] = 1\n",
    "        else:\n",
    "            count[i] += 1\n",
    "            \n",
    "    for j in b:\n",
    "        if j not in count:\n",
    "            count[j] = 1\n",
    "        else:\n",
    "            count[j] -= 1\n",
    "            \n",
    "    for k in count:\n",
    "        if count[k] != 0:\n",
    "            return False\n",
    "        \n",
    "    return True"
   ]
  },
  {
   "cell_type": "code",
   "execution_count": 92,
   "metadata": {},
   "outputs": [
    {
     "data": {
      "text/plain": [
       "True"
      ]
     },
     "execution_count": 92,
     "metadata": {},
     "output_type": "execute_result"
    }
   ],
   "source": [
    "x = \"public relations\"\n",
    "y = \"crap built on lies\"\n",
    "anagram(x, y)"
   ]
  },
  {
   "cell_type": "code",
   "execution_count": 93,
   "metadata": {},
   "outputs": [],
   "source": [
    "# Array Pair Sum\n",
    "\n",
    "def aps(arr, s):\n",
    "    \n",
    "    # Corner case\n",
    "    if len(arr) == 0:\n",
    "        return\n",
    "    \n",
    "    seen = set()\n",
    "    output = set()\n",
    "    \n",
    "    for num in arr:\n",
    "        target = s - num\n",
    "    \n",
    "        if target not in seen:\n",
    "            seen.add(num)\n",
    "        else:\n",
    "            output.add(( max(num, target), min(num, target) ))\n",
    "            \n",
    "    return output"
   ]
  },
  {
   "cell_type": "code",
   "execution_count": 94,
   "metadata": {},
   "outputs": [
    {
     "data": {
      "text/plain": [
       "{(3, 3)}"
      ]
     },
     "execution_count": 94,
     "metadata": {},
     "output_type": "execute_result"
    }
   ],
   "source": [
    "aps([1, 2, 3, 2, 3], 6)"
   ]
  },
  {
   "cell_type": "code",
   "execution_count": 95,
   "metadata": {},
   "outputs": [],
   "source": [
    "# Find the missing element\n",
    "\n",
    "def missEle(a, b):\n",
    "    \n",
    "    missing = a\n",
    "    \n",
    "    for i in b:\n",
    "        if i in missing:\n",
    "            missing.remove(i)\n",
    "            \n",
    "    return missing"
   ]
  },
  {
   "cell_type": "code",
   "execution_count": 96,
   "metadata": {},
   "outputs": [
    {
     "data": {
      "text/plain": [
       "[2, 4]"
      ]
     },
     "execution_count": 96,
     "metadata": {},
     "output_type": "execute_result"
    }
   ],
   "source": [
    "missEle([1, 2, 3, 4, 5, 6], [1, 3, 5, 6])"
   ]
  },
  {
   "cell_type": "code",
   "execution_count": 97,
   "metadata": {},
   "outputs": [],
   "source": [
    "# Largest Continuos Sum\n",
    "\n",
    "def lcs(arr):\n",
    "    \n",
    "    l = len(arr)\n",
    "    \n",
    "    # Corner case\n",
    "    if l == 0:\n",
    "        return\n",
    "    \n",
    "    cs = lcs = arr[0]\n",
    "    \n",
    "    for num in arr[1:]:\n",
    "        cs = max(num, num+cs)\n",
    "        lcs = max(cs, lcs)\n",
    "        \n",
    "    return lcs"
   ]
  },
  {
   "cell_type": "code",
   "execution_count": 98,
   "metadata": {},
   "outputs": [
    {
     "data": {
      "text/plain": [
       "7"
      ]
     },
     "execution_count": 98,
     "metadata": {},
     "output_type": "execute_result"
    }
   ],
   "source": [
    "lcs([-2, -3, 4, -1, -2, 1, 5, -3])"
   ]
  },
  {
   "cell_type": "code",
   "execution_count": 113,
   "metadata": {},
   "outputs": [],
   "source": [
    "# Sentence reversal\n",
    "\n",
    "def sentRev(st):\n",
    "    st = st.strip().split(\" \")\n",
    "    rev = []\n",
    "    \n",
    "    for s in st[::-1]:\n",
    "        rev.append(s)\n",
    "        \n",
    "    return \" \".join(rev)"
   ]
  },
  {
   "cell_type": "code",
   "execution_count": 114,
   "metadata": {},
   "outputs": [
    {
     "data": {
      "text/plain": [
       "'sentence a reverse to function the is this Hello'"
      ]
     },
     "execution_count": 114,
     "metadata": {},
     "output_type": "execute_result"
    }
   ],
   "source": [
    "sentRev(\"  Hello this is the function to reverse a sentence\")"
   ]
  },
  {
   "cell_type": "code",
   "execution_count": 115,
   "metadata": {},
   "outputs": [],
   "source": [
    "# String Compression\n",
    "\n",
    "def sComp(s):\n",
    "    \n",
    "    l = len(s)\n",
    "    \n",
    "    # Corner case\n",
    "    if l == 0:\n",
    "        return\n",
    "    \n",
    "    first = s[0]\n",
    "    cnt = 1\n",
    "    i = 1\n",
    "    res = \"\"\n",
    "    \n",
    "    while i < l:\n",
    "        if s[i - 1] == s[i]:\n",
    "            cnt += 1\n",
    "            \n",
    "        else:\n",
    "            res += s[i - 1] + str(cnt)\n",
    "            cnt = 1\n",
    "        \n",
    "        i += 1\n",
    "        \n",
    "    res += s[i - 1] + str(cnt)\n",
    "    \n",
    "    return res\n",
    "            "
   ]
  },
  {
   "cell_type": "code",
   "execution_count": 116,
   "metadata": {},
   "outputs": [
    {
     "data": {
      "text/plain": [
       "'A5a4b3c2e1'"
      ]
     },
     "execution_count": 116,
     "metadata": {},
     "output_type": "execute_result"
    }
   ],
   "source": [
    "sComp(\"AAAAAaaaabbbcce\")"
   ]
  },
  {
   "cell_type": "code",
   "execution_count": 117,
   "metadata": {},
   "outputs": [],
   "source": [
    "# Unique characters in a string\n",
    "\n",
    "def ucs(s):\n",
    "    \n",
    "    count = {}\n",
    "    \n",
    "    for i in s:\n",
    "        if i not in count:\n",
    "            count[i] = 1\n",
    "        else:\n",
    "            count[i] += 1\n",
    "            \n",
    "    for k in count:\n",
    "        if count[k] != 1:\n",
    "            return False\n",
    "        \n",
    "    return True"
   ]
  },
  {
   "cell_type": "code",
   "execution_count": 120,
   "metadata": {},
   "outputs": [
    {
     "data": {
      "text/plain": [
       "False"
      ]
     },
     "execution_count": 120,
     "metadata": {},
     "output_type": "execute_result"
    }
   ],
   "source": [
    "ucs(\"aAbcdefgg\")"
   ]
  },
  {
   "cell_type": "code",
   "execution_count": 121,
   "metadata": {},
   "outputs": [],
   "source": [
    "# Balanced Parenthesis Check\n",
    "\n",
    "def bpc(par):\n",
    "    \n",
    "    # Corner Case\n",
    "    if len(par) % 2 != 0:\n",
    "        return False\n",
    "    \n",
    "    stack = []\n",
    "    start = set(\"({[\")\n",
    "    matches = set([ (\"(\", \")\"), (\"{\", \"}\"), (\"[\", \"]\") ])\n",
    "    \n",
    "    for paren in par:\n",
    "        if paren in start:\n",
    "            stack.append(paren)\n",
    "            \n",
    "        else:\n",
    "            if len(stack) == 0:\n",
    "                return False\n",
    "            \n",
    "            last_open = stack.pop()\n",
    "            \n",
    "            if (last_open, paren) not in matches:\n",
    "                return False\n",
    "            \n",
    "    return len(stack) == 0"
   ]
  },
  {
   "cell_type": "code",
   "execution_count": 123,
   "metadata": {},
   "outputs": [
    {
     "data": {
      "text/plain": [
       "False"
      ]
     },
     "execution_count": 123,
     "metadata": {},
     "output_type": "execute_result"
    }
   ],
   "source": [
    "bpc(\"{([[]]}\")"
   ]
  },
  {
   "cell_type": "code",
   "execution_count": 124,
   "metadata": {},
   "outputs": [],
   "source": [
    "# Queue using 2 Stacks\n",
    "\n",
    "class Stack2Queue():\n",
    "    \n",
    "    def __init__(self):\n",
    "        self.instack = []\n",
    "        self.outstack = []\n",
    "        \n",
    "    def enqueue(self, item):\n",
    "        self.instack.append(item)\n",
    "        \n",
    "    def dequeue(self):\n",
    "        if not self.outstack:\n",
    "            while self.instack:\n",
    "                self.outstack.append(self.instack.pop())\n",
    "                \n",
    "        return self.outstack.pop()"
   ]
  },
  {
   "cell_type": "code",
   "execution_count": 125,
   "metadata": {},
   "outputs": [],
   "source": [
    "s2q = Stack2Queue()"
   ]
  },
  {
   "cell_type": "code",
   "execution_count": 130,
   "metadata": {},
   "outputs": [],
   "source": [
    "for i in range(5):\n",
    "    s2q.enqueue(i)"
   ]
  },
  {
   "cell_type": "code",
   "execution_count": 131,
   "metadata": {},
   "outputs": [
    {
     "name": "stdout",
     "output_type": "stream",
     "text": [
      "0\n",
      "1\n",
      "2\n",
      "3\n",
      "4\n"
     ]
    }
   ],
   "source": [
    "for j in range(5):\n",
    "    print(s2q.dequeue())"
   ]
  },
  {
   "cell_type": "markdown",
   "metadata": {},
   "source": [
    "# Linked Lists"
   ]
  },
  {
   "cell_type": "code",
   "execution_count": 132,
   "metadata": {},
   "outputs": [],
   "source": [
    "# Implement a Singly Linked List\n",
    "\n",
    "class Node(object):\n",
    "    \n",
    "    def __init__(self, value):\n",
    "        self.value = value\n",
    "        self.nextnode = None"
   ]
  },
  {
   "cell_type": "code",
   "execution_count": 133,
   "metadata": {},
   "outputs": [],
   "source": [
    "a = Node(\"Hi\")\n",
    "b = Node(\"Deeps\")\n",
    "c = Node(\"Kumar\")\n",
    "\n",
    "a.nextnode = b\n",
    "b.nextnode = c"
   ]
  },
  {
   "cell_type": "code",
   "execution_count": 134,
   "metadata": {},
   "outputs": [
    {
     "data": {
      "text/plain": [
       "'Hi'"
      ]
     },
     "execution_count": 134,
     "metadata": {},
     "output_type": "execute_result"
    }
   ],
   "source": [
    "a.value"
   ]
  },
  {
   "cell_type": "code",
   "execution_count": 135,
   "metadata": {},
   "outputs": [
    {
     "data": {
      "text/plain": [
       "'Deeps'"
      ]
     },
     "execution_count": 135,
     "metadata": {},
     "output_type": "execute_result"
    }
   ],
   "source": [
    "a.nextnode.value"
   ]
  },
  {
   "cell_type": "code",
   "execution_count": 136,
   "metadata": {},
   "outputs": [
    {
     "data": {
      "text/plain": [
       "'Kumar'"
      ]
     },
     "execution_count": 136,
     "metadata": {},
     "output_type": "execute_result"
    }
   ],
   "source": [
    "a.nextnode.nextnode.value"
   ]
  },
  {
   "cell_type": "code",
   "execution_count": 138,
   "metadata": {},
   "outputs": [],
   "source": [
    "# Linked List Cycle Check\n",
    "\n",
    "def cycle_check(head):\n",
    "    \n",
    "    # Initiate two pointers\n",
    "    pointer1 = head\n",
    "    pointer2 = head\n",
    "    \n",
    "    while pointer2 != None and pointer2.nextnode != None:\n",
    "        pointer1 = pointer1.nextnode\n",
    "        pointer2 = pointer2.nextnode.nextnode\n",
    "        \n",
    "        if pointer1 == pointer2:\n",
    "            return \"Yup! a cycle exits\"\n",
    "        \n",
    "    return \"Nuuu! Not a cycle\""
   ]
  },
  {
   "cell_type": "code",
   "execution_count": 139,
   "metadata": {},
   "outputs": [
    {
     "data": {
      "text/plain": [
       "'Nuuu! Not a cycle'"
      ]
     },
     "execution_count": 139,
     "metadata": {},
     "output_type": "execute_result"
    }
   ],
   "source": [
    "cycle_check(a)"
   ]
  },
  {
   "cell_type": "code",
   "execution_count": 140,
   "metadata": {},
   "outputs": [],
   "source": [
    "c.nextnode = a"
   ]
  },
  {
   "cell_type": "code",
   "execution_count": 141,
   "metadata": {},
   "outputs": [
    {
     "data": {
      "text/plain": [
       "'Yup! a cycle exits'"
      ]
     },
     "execution_count": 141,
     "metadata": {},
     "output_type": "execute_result"
    }
   ],
   "source": [
    "cycle_check(a)"
   ]
  },
  {
   "cell_type": "code",
   "execution_count": 144,
   "metadata": {},
   "outputs": [],
   "source": [
    "# Linked List Reversal\n",
    "\n",
    "def reversal(head):\n",
    "    \n",
    "    current = head\n",
    "    prev = None\n",
    "    neckst = None\n",
    "    \n",
    "    while current != None:\n",
    "        neckst = current.nextnode\n",
    "        current.nextnode = prev\n",
    "        \n",
    "        prev = current\n",
    "        current = neckst\n",
    "    \n",
    "    return prev"
   ]
  },
  {
   "cell_type": "code",
   "execution_count": 156,
   "metadata": {},
   "outputs": [],
   "source": [
    "x = Node(\"Hi\")\n",
    "y = Node(\"Deepak\")\n",
    "z = Node(\"Kumar\")\n",
    "\n",
    "x.nextnode = y\n",
    "y.nextnode = z"
   ]
  },
  {
   "cell_type": "code",
   "execution_count": 157,
   "metadata": {},
   "outputs": [
    {
     "data": {
      "text/plain": [
       "'Deepak'"
      ]
     },
     "execution_count": 157,
     "metadata": {},
     "output_type": "execute_result"
    }
   ],
   "source": [
    "y.value"
   ]
  },
  {
   "cell_type": "code",
   "execution_count": 158,
   "metadata": {},
   "outputs": [
    {
     "data": {
      "text/plain": [
       "'Deepak'"
      ]
     },
     "execution_count": 158,
     "metadata": {},
     "output_type": "execute_result"
    }
   ],
   "source": [
    "x.nextnode.value"
   ]
  },
  {
   "cell_type": "code",
   "execution_count": 159,
   "metadata": {},
   "outputs": [
    {
     "name": "stdout",
     "output_type": "stream",
     "text": [
      "Deepak\n",
      "Kumar\n"
     ]
    },
    {
     "ename": "AttributeError",
     "evalue": "'NoneType' object has no attribute 'value'",
     "output_type": "error",
     "traceback": [
      "\u001b[0;31m---------------------------------------------------------------------------\u001b[0m",
      "\u001b[0;31mAttributeError\u001b[0m                            Traceback (most recent call last)",
      "\u001b[0;32m<ipython-input-159-5f325b0f7cf8>\u001b[0m in \u001b[0;36m<module>\u001b[0;34m()\u001b[0m\n\u001b[1;32m      1\u001b[0m \u001b[0mprint\u001b[0m\u001b[0;34m(\u001b[0m\u001b[0mx\u001b[0m\u001b[0;34m.\u001b[0m\u001b[0mnextnode\u001b[0m\u001b[0;34m.\u001b[0m\u001b[0mvalue\u001b[0m\u001b[0;34m)\u001b[0m\u001b[0;34m\u001b[0m\u001b[0m\n\u001b[1;32m      2\u001b[0m \u001b[0mprint\u001b[0m\u001b[0;34m(\u001b[0m\u001b[0my\u001b[0m\u001b[0;34m.\u001b[0m\u001b[0mnextnode\u001b[0m\u001b[0;34m.\u001b[0m\u001b[0mvalue\u001b[0m\u001b[0;34m)\u001b[0m\u001b[0;34m\u001b[0m\u001b[0m\n\u001b[0;32m----> 3\u001b[0;31m \u001b[0mprint\u001b[0m\u001b[0;34m(\u001b[0m\u001b[0mz\u001b[0m\u001b[0;34m.\u001b[0m\u001b[0mnextnode\u001b[0m\u001b[0;34m.\u001b[0m\u001b[0mvalue\u001b[0m\u001b[0;34m)\u001b[0m\u001b[0;34m\u001b[0m\u001b[0m\n\u001b[0m",
      "\u001b[0;31mAttributeError\u001b[0m: 'NoneType' object has no attribute 'value'"
     ]
    }
   ],
   "source": [
    "print(x.nextnode.value)\n",
    "print(y.nextnode.value)\n",
    "print(z.nextnode.value)"
   ]
  },
  {
   "cell_type": "code",
   "execution_count": 160,
   "metadata": {},
   "outputs": [
    {
     "data": {
      "text/plain": [
       "<__main__.Node at 0x7f0a10262e10>"
      ]
     },
     "execution_count": 160,
     "metadata": {},
     "output_type": "execute_result"
    }
   ],
   "source": [
    "reversal(x)"
   ]
  },
  {
   "cell_type": "code",
   "execution_count": 161,
   "metadata": {},
   "outputs": [
    {
     "name": "stdout",
     "output_type": "stream",
     "text": [
      "Deepak\n",
      "Hi\n"
     ]
    },
    {
     "ename": "AttributeError",
     "evalue": "'NoneType' object has no attribute 'value'",
     "output_type": "error",
     "traceback": [
      "\u001b[0;31m---------------------------------------------------------------------------\u001b[0m",
      "\u001b[0;31mAttributeError\u001b[0m                            Traceback (most recent call last)",
      "\u001b[0;32m<ipython-input-161-866679f071b3>\u001b[0m in \u001b[0;36m<module>\u001b[0;34m()\u001b[0m\n\u001b[1;32m      1\u001b[0m \u001b[0mprint\u001b[0m\u001b[0;34m(\u001b[0m\u001b[0mz\u001b[0m\u001b[0;34m.\u001b[0m\u001b[0mnextnode\u001b[0m\u001b[0;34m.\u001b[0m\u001b[0mvalue\u001b[0m\u001b[0;34m)\u001b[0m\u001b[0;34m\u001b[0m\u001b[0m\n\u001b[1;32m      2\u001b[0m \u001b[0mprint\u001b[0m\u001b[0;34m(\u001b[0m\u001b[0my\u001b[0m\u001b[0;34m.\u001b[0m\u001b[0mnextnode\u001b[0m\u001b[0;34m.\u001b[0m\u001b[0mvalue\u001b[0m\u001b[0;34m)\u001b[0m\u001b[0;34m\u001b[0m\u001b[0m\n\u001b[0;32m----> 3\u001b[0;31m \u001b[0mprint\u001b[0m\u001b[0;34m(\u001b[0m\u001b[0mx\u001b[0m\u001b[0;34m.\u001b[0m\u001b[0mnextnode\u001b[0m\u001b[0;34m.\u001b[0m\u001b[0mvalue\u001b[0m\u001b[0;34m)\u001b[0m\u001b[0;34m\u001b[0m\u001b[0m\n\u001b[0m",
      "\u001b[0;31mAttributeError\u001b[0m: 'NoneType' object has no attribute 'value'"
     ]
    }
   ],
   "source": [
    "print(z.nextnode.value)\n",
    "print(y.nextnode.value)\n",
    "print(x.nextnode.value)"
   ]
  },
  {
   "cell_type": "code",
   "execution_count": 162,
   "metadata": {},
   "outputs": [],
   "source": [
    "# Linked List nth_to_last node\n",
    "\n",
    "def nth_to_last(head, n):\n",
    "    # Initiate two pointers\n",
    "    pointer1 = head\n",
    "    pointer2 = head\n",
    "    \n",
    "    for i in range(n - 1):\n",
    "        \n",
    "        if pointer1.nextnode != None:\n",
    "            raise LookupError(\"The value of n is larger than the linked list :P\")\n",
    "        else:\n",
    "            pointer1 = pointer1.nextnode\n",
    "            \n",
    "    \n",
    "    while pointer1.nextnode != None:\n",
    "        pointer2 = pointer2.nextnode\n",
    "        pointer1 = pointer1.nextnode\n",
    "    \n",
    "    return pointer2"
   ]
  },
  {
   "cell_type": "code",
   "execution_count": 164,
   "metadata": {},
   "outputs": [],
   "source": [
    "obj = nth_to_last(x, 1)"
   ]
  },
  {
   "cell_type": "code",
   "execution_count": 165,
   "metadata": {},
   "outputs": [
    {
     "data": {
      "text/plain": [
       "'Hi'"
      ]
     },
     "execution_count": 165,
     "metadata": {},
     "output_type": "execute_result"
    }
   ],
   "source": [
    "obj.value"
   ]
  },
  {
   "cell_type": "code",
   "execution_count": 168,
   "metadata": {},
   "outputs": [],
   "source": [
    "def rev_string(s):\n",
    "    \n",
    "    rev = []\n",
    "    \n",
    "    for i in s[::-1]:\n",
    "        rev.append(i)\n",
    "        \n",
    "    return \"\".join(rev)"
   ]
  },
  {
   "cell_type": "code",
   "execution_count": 169,
   "metadata": {},
   "outputs": [
    {
     "data": {
      "text/plain": [
       "'dlroW olleH'"
      ]
     },
     "execution_count": 169,
     "metadata": {},
     "output_type": "execute_result"
    }
   ],
   "source": [
    "rev_string(\"Hello World\")"
   ]
  },
  {
   "cell_type": "markdown",
   "metadata": {},
   "source": [
    "# Recursion"
   ]
  },
  {
   "cell_type": "code",
   "execution_count": 170,
   "metadata": {},
   "outputs": [],
   "source": [
    "# String Reversal\n",
    "\n",
    "def rever(s):\n",
    "    \n",
    "    # Base Case\n",
    "    if len(s) <= 1:\n",
    "        return s\n",
    "    \n",
    "    # Recursive Case\n",
    "    return rever(s[1:]) + s[0]"
   ]
  },
  {
   "cell_type": "code",
   "execution_count": 171,
   "metadata": {},
   "outputs": [
    {
     "data": {
      "text/plain": [
       "'aggin ym pussaW'"
      ]
     },
     "execution_count": 171,
     "metadata": {},
     "output_type": "execute_result"
    }
   ],
   "source": [
    "rever(\"Wassup my nigga\")"
   ]
  },
  {
   "cell_type": "code",
   "execution_count": 197,
   "metadata": {},
   "outputs": [],
   "source": [
    "# Factorial\n",
    "\n",
    "def factorial(n):\n",
    "    \n",
    "    # Base case\n",
    "    if n == 0:\n",
    "        return 1\n",
    "    \n",
    "    # Recursive case\n",
    "    return n * factorial(n - 1)"
   ]
  },
  {
   "cell_type": "code",
   "execution_count": 199,
   "metadata": {},
   "outputs": [
    {
     "data": {
      "text/plain": [
       "24"
      ]
     },
     "execution_count": 199,
     "metadata": {},
     "output_type": "execute_result"
    }
   ],
   "source": [
    "factorial(4)"
   ]
  },
  {
   "cell_type": "code",
   "execution_count": 212,
   "metadata": {},
   "outputs": [],
   "source": [
    "# Fibonacci\n",
    "\n",
    "def fibonacci(n):\n",
    "    \n",
    "    a = 0\n",
    "    b = 1\n",
    "    \n",
    "    while b < n:\n",
    "        print(b)\n",
    "        a, b = b, a+b"
   ]
  },
  {
   "cell_type": "code",
   "execution_count": 213,
   "metadata": {},
   "outputs": [
    {
     "name": "stdout",
     "output_type": "stream",
     "text": [
      "1\n",
      "1\n",
      "2\n",
      "3\n",
      "5\n",
      "8\n"
     ]
    }
   ],
   "source": [
    "fibonacci(10)"
   ]
  },
  {
   "cell_type": "code",
   "execution_count": 216,
   "metadata": {},
   "outputs": [],
   "source": [
    "# Cumulative Sum\n",
    "\n",
    "def cumSum(s):\n",
    "    \n",
    "    # Base case\n",
    "    if s == 0:\n",
    "        return 0\n",
    "    \n",
    "    # Recursive case\n",
    "    return s + cumSum(s - 1)"
   ]
  },
  {
   "cell_type": "code",
   "execution_count": 217,
   "metadata": {},
   "outputs": [
    {
     "data": {
      "text/plain": [
       "55"
      ]
     },
     "execution_count": 217,
     "metadata": {},
     "output_type": "execute_result"
    }
   ],
   "source": [
    "cumSum(10)"
   ]
  },
  {
   "cell_type": "code",
   "execution_count": 218,
   "metadata": {},
   "outputs": [],
   "source": [
    "# Sum of individual digits\n",
    "\n",
    "def soid(s):\n",
    "    summ = 0\n",
    "    \n",
    "    for i in str(s):\n",
    "        summ += int(i)\n",
    "        \n",
    "    return summ"
   ]
  },
  {
   "cell_type": "code",
   "execution_count": 219,
   "metadata": {},
   "outputs": [
    {
     "data": {
      "text/plain": [
       "45"
      ]
     },
     "execution_count": 219,
     "metadata": {},
     "output_type": "execute_result"
    }
   ],
   "source": [
    "soid(12127862736)"
   ]
  },
  {
   "cell_type": "code",
   "execution_count": null,
   "metadata": {},
   "outputs": [],
   "source": []
  },
  {
   "cell_type": "markdown",
   "metadata": {},
   "source": [
    "# Trees"
   ]
  },
  {
   "cell_type": "code",
   "execution_count": 221,
   "metadata": {},
   "outputs": [],
   "source": [
    "# Tree implementation with lists\n",
    "\n",
    "def BinaryTree(r):\n",
    "    return [r, [], []]\n",
    "    \n",
    "def insertLeft(root, val):\n",
    "    t = root.pop(1)\n",
    "    \n",
    "    if len(t) > 1:\n",
    "        root.insert(1, [val, t, []])\n",
    "    else:\n",
    "        root.insert(1, [val, [], []])\n",
    "\n",
    "def insertRight(root, val):\n",
    "    t = root.pop(2)\n",
    "    \n",
    "    if len(t) > 1:\n",
    "        root.insert(2, [val, [], t])\n",
    "    else:\n",
    "        root.insert(2, [val, [], []])\n",
    "        \n",
    "def getRootVal(root):\n",
    "    return root[0]\n",
    "\n",
    "def setRootVal(root, newVal):\n",
    "    root[0] = newVal\n",
    "    \n",
    "def getLeftBranch(root):\n",
    "    return root[1]\n",
    "\n",
    "def getRightBranch(root):\n",
    "    return root[2]"
   ]
  },
  {
   "cell_type": "code",
   "execution_count": 225,
   "metadata": {},
   "outputs": [],
   "source": [
    "tree = BinaryTree(1)"
   ]
  },
  {
   "cell_type": "code",
   "execution_count": 227,
   "metadata": {},
   "outputs": [],
   "source": [
    "# Implement a tree with OOPS\n",
    "\n",
    "class BinaryTree(object):\n",
    "    \n",
    "    def __init__(self, rootVal):\n",
    "        self.root = rootVal\n",
    "        self.leftChild = None\n",
    "        self.rightChild = None\n",
    "        \n",
    "    def insertLeft(self, newNode):\n",
    "        if self.leftChild == None:\n",
    "            self.leftChild = BinaryTree(newNode)\n",
    "        else:\n",
    "            t = BinaryTree(newNode)\n",
    "            \n",
    "            t.leftChild = self.leftChild\n",
    "            self.leftChild = t\n",
    "    \n",
    "    def insertRight(self, newNode):\n",
    "        if self.rightChild == None:\n",
    "            self.rightChild = BinaryTree(newNode)\n",
    "        else:\n",
    "            t = BinaryTree(newNode)\n",
    "            t.rightChild = self.rightChild\n",
    "            self.rightChild = t\n",
    "    \n",
    "    def getLeftChild(self):\n",
    "        return self.leftChild\n",
    "    \n",
    "    def getRightChild(self):\n",
    "        return self.rightChild\n",
    "    \n",
    "    def setRootVal(self, newVal):\n",
    "        self.root = newVal\n",
    "    \n",
    "    def getRootVal(self):\n",
    "        return self.root"
   ]
  },
  {
   "cell_type": "code",
   "execution_count": 233,
   "metadata": {},
   "outputs": [
    {
     "data": {
      "text/plain": [
       "2.5"
      ]
     },
     "execution_count": 233,
     "metadata": {},
     "output_type": "execute_result"
    }
   ],
   "source": [
    "# Priority Queue using Binary Heap\n",
    "\n",
    "5 / 2"
   ]
  },
  {
   "cell_type": "code",
   "execution_count": 234,
   "metadata": {},
   "outputs": [
    {
     "data": {
      "text/plain": [
       "2"
      ]
     },
     "execution_count": 234,
     "metadata": {},
     "output_type": "execute_result"
    }
   ],
   "source": [
    "5 // 2"
   ]
  },
  {
   "cell_type": "markdown",
   "metadata": {},
   "source": [
    "# Searching Algorithms"
   ]
  },
  {
   "cell_type": "code",
   "execution_count": 1,
   "metadata": {},
   "outputs": [],
   "source": [
    "# Sequential Search UL\n",
    "\n",
    "def seqSearch(arr, ele):\n",
    "    \n",
    "    found = False\n",
    "    ind = 0\n",
    "    \n",
    "    while ind < len(arr) and not found:\n",
    "        if arr[ind] == ele:\n",
    "            found = True\n",
    "            \n",
    "        else:\n",
    "            ind += 1\n",
    "    \n",
    "    return found"
   ]
  },
  {
   "cell_type": "code",
   "execution_count": 3,
   "metadata": {},
   "outputs": [
    {
     "data": {
      "text/plain": [
       "False"
      ]
     },
     "execution_count": 3,
     "metadata": {},
     "output_type": "execute_result"
    }
   ],
   "source": [
    "seqSearch([1, 3, 5, 8, 12], 2)"
   ]
  },
  {
   "cell_type": "code",
   "execution_count": 4,
   "metadata": {},
   "outputs": [],
   "source": [
    "# Sequential Search OL\n",
    "\n",
    "def seqSeol(arr, ele):\n",
    "    \n",
    "    found = False\n",
    "    ind = 0\n",
    "    stopped = False\n",
    "    \n",
    "    while ind < len(arr) and not found and not stopped:\n",
    "        if arr[ind] == ele:\n",
    "            found = True\n",
    "            \n",
    "        else:\n",
    "            if ele < arr[ind]:\n",
    "                stopped = True\n",
    "            \n",
    "            ind += 1\n",
    "            \n",
    "    return found"
   ]
  },
  {
   "cell_type": "code",
   "execution_count": 6,
   "metadata": {},
   "outputs": [
    {
     "data": {
      "text/plain": [
       "True"
      ]
     },
     "execution_count": 6,
     "metadata": {},
     "output_type": "execute_result"
    }
   ],
   "source": [
    "seqSeol([1, 2, 3, 4, 5, 6, 7, 8], 2)"
   ]
  },
  {
   "cell_type": "code",
   "execution_count": 7,
   "metadata": {},
   "outputs": [],
   "source": [
    "# Binary Search Iteratively\n",
    "\n",
    "def BS(arr, ele):\n",
    "    \n",
    "    # Corner case\n",
    "    if len(arr) == 0:\n",
    "        return\n",
    "    \n",
    "    first = 0\n",
    "    last = len(arr) - 1\n",
    "    found = False\n",
    "    \n",
    "    while first <= last and not found:\n",
    "        mid = (first + last) // 2\n",
    "        \n",
    "        if ele == arr[mid]:\n",
    "            found = True\n",
    "        \n",
    "        else:\n",
    "            if ele < arr[mid]:\n",
    "                last = arr[mid - 1]\n",
    "            \n",
    "            else:\n",
    "                first = arr[mid + 1]\n",
    "    return found\n",
    "            \n",
    "    "
   ]
  },
  {
   "cell_type": "code",
   "execution_count": 9,
   "metadata": {},
   "outputs": [
    {
     "data": {
      "text/plain": [
       "False"
      ]
     },
     "execution_count": 9,
     "metadata": {},
     "output_type": "execute_result"
    }
   ],
   "source": [
    "BS([1, 2, 4, 6, 9], 3)"
   ]
  },
  {
   "cell_type": "code",
   "execution_count": 12,
   "metadata": {},
   "outputs": [],
   "source": [
    "def BSR(arr, ele):\n",
    "    \n",
    "    # Base Case\n",
    "    if len(arr) == 0:\n",
    "        return False\n",
    "    \n",
    "    # Recursive case\n",
    "    mid = len(arr) // 2\n",
    "    \n",
    "    if ele == arr[mid]:\n",
    "        found = True\n",
    "        \n",
    "    else:\n",
    "        if ele < arr[mid]:\n",
    "            return BSR(arr[:mid], ele)\n",
    "        else:\n",
    "            return BSR(arr[mid+1:], ele)\n",
    "        \n",
    "    return found"
   ]
  },
  {
   "cell_type": "code",
   "execution_count": 14,
   "metadata": {},
   "outputs": [
    {
     "data": {
      "text/plain": [
       "False"
      ]
     },
     "execution_count": 14,
     "metadata": {},
     "output_type": "execute_result"
    }
   ],
   "source": [
    "BSR([1, 2, 3, 4, 5, 9], 6)"
   ]
  },
  {
   "cell_type": "code",
   "execution_count": 15,
   "metadata": {},
   "outputs": [],
   "source": [
    "# Unordered List Sequential Search\n",
    "\n",
    "def ULSS(arr, ele):\n",
    "    \n",
    "    ind = 0\n",
    "    found = False\n",
    "    \n",
    "    while ind < len(arr) and not found:\n",
    "        if ele == arr[ind]:\n",
    "            found = True\n",
    "            \n",
    "        ind += 1\n",
    "        \n",
    "    return found"
   ]
  },
  {
   "cell_type": "code",
   "execution_count": 18,
   "metadata": {},
   "outputs": [
    {
     "data": {
      "text/plain": [
       "True"
      ]
     },
     "execution_count": 18,
     "metadata": {},
     "output_type": "execute_result"
    }
   ],
   "source": [
    "ULSS([1, 9, 3, 6], 3)"
   ]
  },
  {
   "cell_type": "code",
   "execution_count": 27,
   "metadata": {},
   "outputs": [],
   "source": [
    "# Ordered List Sequential Search\n",
    "\n",
    "def OLSS(arr, ele):\n",
    "    \n",
    "    ind = 0\n",
    "    found = False\n",
    "    stopped = False\n",
    "    \n",
    "    while ind < len(arr) and not found and not stopped:\n",
    "        if ele == arr[ind]:\n",
    "            found = True\n",
    "            \n",
    "        else:\n",
    "            if ele < arr[ind]:\n",
    "                stopped = True\n",
    "                \n",
    "            ind += 1\n",
    "                \n",
    "    return found"
   ]
  },
  {
   "cell_type": "code",
   "execution_count": 30,
   "metadata": {},
   "outputs": [
    {
     "data": {
      "text/plain": [
       "False"
      ]
     },
     "execution_count": 30,
     "metadata": {},
     "output_type": "execute_result"
    }
   ],
   "source": [
    "OLSS([1, 2, 3, 4, 5, 6], 7)"
   ]
  },
  {
   "cell_type": "code",
   "execution_count": 34,
   "metadata": {},
   "outputs": [],
   "source": [
    "# Binary Search Iteratively\n",
    "\n",
    "def BSI(arr, ele):\n",
    "    \n",
    "    first = 0 \n",
    "    last = len(arr) - 1\n",
    "    found = False\n",
    "    \n",
    "    while first <= last and not found:\n",
    "        mid = (first + last) // 2\n",
    "        \n",
    "        if arr[mid] == ele:\n",
    "            found = True\n",
    "            \n",
    "        else:\n",
    "            if ele < arr[mid]:\n",
    "                last = arr[mid - 1]\n",
    "            else:\n",
    "                first = arr[mid + 1]\n",
    "                \n",
    "    return found"
   ]
  },
  {
   "cell_type": "code",
   "execution_count": 36,
   "metadata": {},
   "outputs": [
    {
     "data": {
      "text/plain": [
       "False"
      ]
     },
     "execution_count": 36,
     "metadata": {},
     "output_type": "execute_result"
    }
   ],
   "source": [
    "BSI([1, 2, 4, 7, 9], 3)"
   ]
  },
  {
   "cell_type": "code",
   "execution_count": 37,
   "metadata": {},
   "outputs": [],
   "source": [
    "# Binary Search Recursive\n",
    "\n",
    "def BSr(arr, ele):\n",
    "    \n",
    "    # Base case\n",
    "    if len(arr) == 0:\n",
    "        return False\n",
    "    \n",
    "    found = False\n",
    "    \n",
    "    # Recursive Case\n",
    "    mid = len(arr) // 2\n",
    "    \n",
    "    if ele == arr[mid]:\n",
    "        return True\n",
    "    \n",
    "    else:\n",
    "        if ele < arr[mid]:\n",
    "            return BSr(arr[:mid], ele)\n",
    "        else:\n",
    "            return BSr(arr[mid + 1:], ele)"
   ]
  },
  {
   "cell_type": "code",
   "execution_count": 39,
   "metadata": {},
   "outputs": [
    {
     "data": {
      "text/plain": [
       "False"
      ]
     },
     "execution_count": 39,
     "metadata": {},
     "output_type": "execute_result"
    }
   ],
   "source": [
    "BSr([1, 2, 3, 4, 5, 6], 7)"
   ]
  },
  {
   "cell_type": "code",
   "execution_count": 42,
   "metadata": {},
   "outputs": [],
   "source": [
    "# Sorting Algorithms\n",
    "\n",
    "def BS(arr):\n",
    "    \n",
    "    # Traverse through the entire array backwards\n",
    "    for i in range(len(arr) - 1, 0, -1):\n",
    "        for j in range(i):\n",
    "            if arr[i] < arr[j]:\n",
    "                temp = arr[i]\n",
    "                arr[i] = arr[j]\n",
    "                arr[j] = temp\n",
    "                \n",
    "    return arr"
   ]
  },
  {
   "cell_type": "code",
   "execution_count": 43,
   "metadata": {},
   "outputs": [
    {
     "data": {
      "text/plain": [
       "[1, 2, 3, 5, 6, 7, 8, 9]"
      ]
     },
     "execution_count": 43,
     "metadata": {},
     "output_type": "execute_result"
    }
   ],
   "source": [
    "BS([5, 1, 3, 2, 8, 6, 7, 9])"
   ]
  },
  {
   "cell_type": "code",
   "execution_count": 44,
   "metadata": {},
   "outputs": [],
   "source": [
    "# Selection Sort\n",
    "\n",
    "def SS(arr):\n",
    "    \n",
    "    for i in range(len(arr)):\n",
    "        minIndex = i\n",
    "        for j in range(i+1, len(arr)):\n",
    "            if arr[j] < arr[minIndex]:\n",
    "                minIndex = j\n",
    "                \n",
    "        arr[i], arr[minIndex] = arr[minIndex], arr[i]\n",
    "        \n",
    "    return arr"
   ]
  },
  {
   "cell_type": "code",
   "execution_count": 45,
   "metadata": {},
   "outputs": [
    {
     "data": {
      "text/plain": [
       "[1, 2, 3, 4, 5, 7, 9]"
      ]
     },
     "execution_count": 45,
     "metadata": {},
     "output_type": "execute_result"
    }
   ],
   "source": [
    "SS([2, 1, 4, 3, 7, 5, 9])"
   ]
  },
  {
   "cell_type": "code",
   "execution_count": null,
   "metadata": {},
   "outputs": [],
   "source": []
  }
 ],
 "metadata": {
  "kernelspec": {
   "display_name": "Python 3",
   "language": "python",
   "name": "python3"
  },
  "language_info": {
   "codemirror_mode": {
    "name": "ipython",
    "version": 3
   },
   "file_extension": ".py",
   "mimetype": "text/x-python",
   "name": "python",
   "nbconvert_exporter": "python",
   "pygments_lexer": "ipython3",
   "version": "3.6.5"
  }
 },
 "nbformat": 4,
 "nbformat_minor": 2
}
