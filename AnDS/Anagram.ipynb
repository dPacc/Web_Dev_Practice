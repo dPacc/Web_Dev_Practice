{
 "cells": [
  {
   "cell_type": "code",
   "execution_count": 43,
   "metadata": {},
   "outputs": [],
   "source": [
    "def anagram(s1, s2):\n",
    "    s1 = s1.replace(\" \", \"\")\n",
    "    s2 = s2.replace(\" \", \"\")\n",
    "    if len(s1) == len(s2):\n",
    "        for i in s1:\n",
    "            for j in s2:\n",
    "                if i == j:\n",
    "                    return True\n",
    "    else:\n",
    "        return False"
   ]
  },
  {
   "cell_type": "code",
   "execution_count": 3,
   "metadata": {},
   "outputs": [
    {
     "data": {
      "text/plain": [
       "True"
      ]
     },
     "execution_count": 3,
     "metadata": {},
     "output_type": "execute_result"
    }
   ],
   "source": [
    "anagram2('publiC relations', 'crap buiLt on lies')"
   ]
  },
  {
   "cell_type": "code",
   "execution_count": 33,
   "metadata": {},
   "outputs": [],
   "source": [
    "a = 'jagfiwebfjab'"
   ]
  },
  {
   "cell_type": "code",
   "execution_count": 37,
   "metadata": {},
   "outputs": [],
   "source": [
    "a = sorted(a)"
   ]
  },
  {
   "cell_type": "code",
   "execution_count": 38,
   "metadata": {},
   "outputs": [
    {
     "data": {
      "text/plain": [
       "['a', 'a', 'b', 'b', 'e', 'f', 'f', 'g', 'i', 'j', 'j', 'w']"
      ]
     },
     "execution_count": 38,
     "metadata": {},
     "output_type": "execute_result"
    }
   ],
   "source": [
    "a"
   ]
  },
  {
   "cell_type": "code",
   "execution_count": 1,
   "metadata": {},
   "outputs": [],
   "source": [
    "def anagram2(s1, s2):\n",
    "    s1 = s1.replace(\" \", \"\").lower()\n",
    "    s2 = s2.replace(\" \", \"\").lower()\n",
    "    \n",
    "    count = {}\n",
    "    \n",
    "    for i in s1:\n",
    "        if i in count:\n",
    "            count[i] += 1\n",
    "        else:\n",
    "            count[i] = 1\n",
    "            \n",
    "    for j in s2:\n",
    "        if j in count:\n",
    "            count[j] -= 1\n",
    "        else:\n",
    "            count[j] = 1\n",
    "            \n",
    "    for k in count:\n",
    "        if count[k] != 0:\n",
    "            return False\n",
    "        \n",
    "    return True\n",
    "                "
   ]
  },
  {
   "cell_type": "code",
   "execution_count": null,
   "metadata": {},
   "outputs": [],
   "source": []
  }
 ],
 "metadata": {
  "kernelspec": {
   "display_name": "Python 3",
   "language": "python",
   "name": "python3"
  },
  "language_info": {
   "codemirror_mode": {
    "name": "ipython",
    "version": 3
   },
   "file_extension": ".py",
   "mimetype": "text/x-python",
   "name": "python",
   "nbconvert_exporter": "python",
   "pygments_lexer": "ipython3",
   "version": "3.6.5"
  }
 },
 "nbformat": 4,
 "nbformat_minor": 2
}
